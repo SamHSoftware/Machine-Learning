{
 "cells": [
  {
   "cell_type": "code",
   "execution_count": null,
   "metadata": {},
   "outputs": [],
   "source": [
    "# Import the necessary packages.\n",
    "from neural_netowrk_functions import *\n",
    "\n",
    "# A function which trains itself to predict whether a cancer is metastatic or not by using a neural netowrk. \n",
    "# Function inputs arg 1: save_plot --> True or False. When True, saves plot to the img folder of the package. \n",
    "# Function inputs arg 2: display_plot --> True or False. When True, displays plot within conole. \n",
    "# Function output 1: Model --> Outputs the trained model.\n",
    "# Function output 2: Predicted values --> Outputs a list of predicted values.  \n",
    "# Function output 3: True values --> Outputs a list of True values corresponding to the predicted values.\n",
    "neural_network(save_plot=True, \n",
    "               display_plot=True): "
   ]
  }
 ],
 "metadata": {
  "kernelspec": {
   "display_name": "Python 3",
   "language": "python",
   "name": "python3"
  },
  "language_info": {
   "codemirror_mode": {
    "name": "ipython",
    "version": 3
   },
   "file_extension": ".py",
   "mimetype": "text/x-python",
   "name": "python",
   "nbconvert_exporter": "python",
   "pygments_lexer": "ipython3",
   "version": "3.7.9"
  }
 },
 "nbformat": 4,
 "nbformat_minor": 4
}
