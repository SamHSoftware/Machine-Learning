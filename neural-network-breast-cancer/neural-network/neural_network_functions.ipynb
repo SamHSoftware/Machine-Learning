{
 "cells": [
  {
   "cell_type": "code",
   "execution_count": 9,
   "metadata": {},
   "outputs": [],
   "source": [
    "from sklearn import datasets \n",
    "\n",
    "# A function which trains itself to predict whether a cancer is metastatic or not by using aneural netowrk. \n",
    "def neural_network(): \n",
    "    \n",
    "    ##### (1) Load and prepare data. \n",
    "    data =  datasets.load_breast_cancer()\n",
    "    x, y = data.data, data.target\n",
    "    \n",
    "    # Get data dimensions. \n",
    "    _, num_features = x.shape\n",
    "    \n",
    "    # Split the data into training data and testing data.\n",
    "    x_training, x_testing, y_training, y_testing = train_test_split(x, y, test_size=0.33, random_state=1234)\n",
    "\n",
    "    # Scale the data. \n",
    "    x_training = StandardScaler().fit_transform(x_training)\n",
    "    x_testing = StandardScaler().fit_transform(x_testing)\n",
    "    \n",
    "    # Convert data to tensors.\n",
    "    x_training = torch.from_numpy(x_training.astype(np.float32))\n",
    "    x_testing = torch.from_numpy(x_testing.astype(np.float32))\n",
    "    \n",
    "    num_samples = y_training.shape\n",
    "    y_training = torch.from_numpy(y_training.reshape(num_samples[0], 1))\n",
    "    y_training = y_training.type(torch.float32)\n",
    "                                 \n",
    "    num_samples = y_testing.shape\n",
    "    y_testing = torch.from_numpy(y_testing.reshape(num_samples[0], 1))\n",
    "    y_testing = y_testing.type(torch.float32)     \n"
   ]
  }
 ],
 "metadata": {
  "kernelspec": {
   "display_name": "Python 3",
   "language": "python",
   "name": "python3"
  },
  "language_info": {
   "codemirror_mode": {
    "name": "ipython",
    "version": 3
   },
   "file_extension": ".py",
   "mimetype": "text/x-python",
   "name": "python",
   "nbconvert_exporter": "python",
   "pygments_lexer": "ipython3",
   "version": "3.7.9"
  }
 },
 "nbformat": 4,
 "nbformat_minor": 4
}
