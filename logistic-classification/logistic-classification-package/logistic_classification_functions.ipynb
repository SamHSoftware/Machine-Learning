{
 "cells": [
  {
   "cell_type": "code",
   "execution_count": 9,
   "metadata": {},
   "outputs": [],
   "source": [
    "from tkinter import *\n",
    "from tkinter import filedialog\n",
    "\n",
    "# A function to allow the user to select the image they wish to analyse. \n",
    "# Function inputs args: None. \n",
    "# Function output 1: The file path of that which was selected by the user. \n",
    "def file_selection_dialog():\n",
    "    root = Tk()\n",
    "    root.title('Please select the file in question')\n",
    "    root.filename = filedialog.askopenfilename(initialdir=\"/\", title=\"Select A File\", filetypes=[(\"All files\", \"*.*\")])\n",
    "    file_path = root.filename\n",
    "    root.destroy()\n",
    "\n",
    "    return file_path"
   ]
  },
  {
   "cell_type": "code",
   "execution_count": null,
   "metadata": {},
   "outputs": [],
   "source": [
    "from pandas import read_csv \n",
    "from sklearn.model_selection import train_test_split\n",
    "\n",
    "def MV_linear_regression(file_path, display_plot, save_plot): \n",
    "\n",
    "    ##### (1) Load and prepare data. \n",
    "    data = read_csv(file_path)\n",
    "    \n",
    "    # Scale data, and split the data into training data and testing data.\n",
    "    data = np.array(data)\n",
    "    \n",
    "    np.random.shuffle(data)\n",
    "    training_data, testing_data = train_test_split(data,test_size=0.33)\n",
    "\n",
    "    # Split data into X and Y data. \n",
    "    _, num_cols = data.shape\n",
    "    \n",
    "    # Testing data.\n",
    "    X_testing = testing_data[:, list(range(1,num_cols))]\n",
    "    X_testing = np.array(X_testing, dtype=np.float32)\n",
    "    X_testing = MinMaxScaler().fit_transform(X_testing)\n",
    "    \n",
    "    Y_testing = testing_data[:, 0]\n",
    "    Y_testing = np.array(Y_testing, dtype=np.float32)\n",
    "    \n",
    "    # Training data.\n",
    "    X_training = training_data[:, list(range(1,num_cols))] \n",
    "    X_training = np.array(X_training, dtype=np.float32)\n",
    "    X_training = MinMaxScaler().fit_transform(X_training)\n",
    "    \n",
    "    Y_training = training_data[:, 0]\n",
    "    Y_training = np.array(Y_training, dtype=np.float32)\n",
    "    \n",
    "    # Convert our numpy arrays to tensors. Pytorch requires the use of tensors. \n",
    "    rows, cols = X_training.shape\n",
    "    x_tensor = torch.from_numpy(X_training.reshape(rows,cols))\n",
    "    y_tensor = torch.from_numpy(Y_training.reshape(rows,1))"
   ]
  }
 ],
 "metadata": {
  "kernelspec": {
   "display_name": "Python 3",
   "language": "python",
   "name": "python3"
  },
  "language_info": {
   "codemirror_mode": {
    "name": "ipython",
    "version": 3
   },
   "file_extension": ".py",
   "mimetype": "text/x-python",
   "name": "python",
   "nbconvert_exporter": "python",
   "pygments_lexer": "ipython3",
   "version": "3.7.9"
  }
 },
 "nbformat": 4,
 "nbformat_minor": 4
}
