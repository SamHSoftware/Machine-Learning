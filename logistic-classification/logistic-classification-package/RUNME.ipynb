{
 "cells": [
  {
   "cell_type": "code",
   "execution_count": null,
   "metadata": {},
   "outputs": [],
   "source": [
    "# Import the necessary packages.\n",
    "from logistic_classification_functions import *\n",
    "\n",
    "# Function inputs arg 1: display_plot --> Set to True or False. When True, prints graph of BCE calculated loss per epoch.\n",
    "# Function inputs arg 2: save_plot --> Set to True or False. When True, \n",
    "# Function output 1: Model --> Outputs the trained model.\n",
    "# Function output 2: Accuracy --> Outputs the accuracy of the model as a fraction between 0 (innaccurate) and 1 (accurate). \n",
    "# Function output 3: Predicted values --> Outputs a list of predicted values.  \n",
    "# Function output 4: True values --> Outputs a list of True values corresponding to the predicted values.\n",
    "model, accuracy, predicted_values, true_values = logistic_classification(plot_images, save_plot)"
   ]
  }
 ],
 "metadata": {
  "kernelspec": {
   "display_name": "Python 3",
   "language": "python",
   "name": "python3"
  },
  "language_info": {
   "codemirror_mode": {
    "name": "ipython",
    "version": 3
   },
   "file_extension": ".py",
   "mimetype": "text/x-python",
   "name": "python",
   "nbconvert_exporter": "python",
   "pygments_lexer": "ipython3",
   "version": "3.7.9"
  }
 },
 "nbformat": 4,
 "nbformat_minor": 4
}
