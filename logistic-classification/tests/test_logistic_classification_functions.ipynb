{
 "cells": [
  {
   "cell_type": "code",
   "execution_count": 1,
   "metadata": {},
   "outputs": [],
   "source": [
    "# Import the necessary packages and modules. \n",
    "import os\n",
    "current_directory = os.getcwd()\n",
    "module_directory = current_directory.replace('tests', 'logistic-classification-package')\n",
    "import sys\n",
    "sys.path.insert(0, module_directory)\n",
    "from logistic_classification_functions import *\n",
    "\n",
    "# Test the function 'logistic_classification()' against the provided outputs. \n",
    "# Function input args: None. \n",
    "# Function returns: When no errors are detected, a statement confirming this is printed. When errors are detcted, assertion errors are raised. \n",
    "def test_logistic_classification(): \n",
    "\n",
    "    _, accuracy, y_predicted_classes, y_testing = logistic_classification(False, False)\n",
    "    \n",
    "    # Test 2: See if the values of  RMSE, R2 and the weigths for the linear model fall within the expeted range. \n",
    "    assert accuracy == 0.9680851063829787, \"Test 1 failed. The calculated value accuracy for the model(using a fixed data set) was not equal to 0.9680851063829787\"\n",
    "\n",
    "    print('Tests complete. No errors found.')\n",
    "    \n",
    "# Run the function for unit testing\n",
    "test_logistic_classification()"
   ]
  }
 ],
 "metadata": {
  "kernelspec": {
   "display_name": "Python 3",
   "language": "python",
   "name": "python3"
  },
  "language_info": {
   "codemirror_mode": {
    "name": "ipython",
    "version": 3
   },
   "file_extension": ".py",
   "mimetype": "text/x-python",
   "name": "python",
   "nbconvert_exporter": "python",
   "pygments_lexer": "ipython3",
   "version": "3.7.9"
  }
 },
 "nbformat": 4,
 "nbformat_minor": 4
}
