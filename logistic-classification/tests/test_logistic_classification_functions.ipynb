{
 "cells": [
  {
   "cell_type": "code",
   "execution_count": 1,
   "metadata": {},
   "outputs": [],
   "source": [
    "# Import the necessary packages and modules. \n",
    "import os\n",
    "current_directory = os.getcwd()\n",
    "module_directory = current_directory.replace('tests', 'logistic-classification-package')\n",
    "import sys\n",
    "sys.path.insert(0, module_directory)\n",
    "from linear_regression_functions import *\n",
    "\n",
    "# Test the function 'multivairate_linear_regression()' against the provided outputs. \n",
    "# Function input args: None. \n",
    "# Function returns: When no errors are detected, a statement confirming this is printed. When errors are detcted, assertion errors are raised. \n",
    "def test_multivariate_linear_regression(): \n",
    "\n",
    "\n",
    "    \n",
    "    # Test 2: See if the values of  RMSE, R2 and the weigths for the linear model fall within the expeted range. \n",
    "    assert 2.2 < RMSE < 2.6, \"Test 2.1 failed. The calculated values of RMSE fell outside of the following expected range: 2.2 < RMSE < 2.6.\"\n",
    "    assert 0.9 < R2 <= 1, \"Test 2.2 failed. The calculated values of R2 fell outside of the following exected range: 0.9 < R2 <= 1.\"\n",
    "    assert 15 < output[0] < 17.5, \"Test 2.3 failed. The bias (the y-intercept) of the linear model fell outside of the following expected range: 15 < bias < 17.5.\"\n",
    "    assert -17 < output[1] < -15, \"Test 2.4 failed. The weight correspoding to the first training column fell outside of the following expected range: -17 < weight1 < -15.\"\n",
    "    assert 23 < output[2] < 25.5, \"Test 2.5 failed. The weight correspoding to the second training column fell outside of the following expected range: 23 < weight2 < 25.5.\"\n",
    "\n",
    "    print('Tests complete. No errors found.')\n",
    "    \n",
    "# Run the function for unit testing\n",
    "test_multivariate_linear_regression()"
   ]
  }
 ],
 "metadata": {
  "kernelspec": {
   "display_name": "Python 3",
   "language": "python",
   "name": "python3"
  },
  "language_info": {
   "codemirror_mode": {
    "name": "ipython",
    "version": 3
   },
   "file_extension": ".py",
   "mimetype": "text/x-python",
   "name": "python",
   "nbconvert_exporter": "python",
   "pygments_lexer": "ipython3",
   "version": "3.7.9"
  }
 },
 "nbformat": 4,
 "nbformat_minor": 4
}
