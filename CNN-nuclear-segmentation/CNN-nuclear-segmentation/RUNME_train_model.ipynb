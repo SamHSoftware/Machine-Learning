{
 "cells": [
  {
   "cell_type": "code",
   "execution_count": null,
   "id": "c1fdde59",
   "metadata": {},
   "outputs": [],
   "source": [
    "# Import the necessary packages.\n",
    "from CNN_nuclei_module import *\n",
    "\n",
    "# A function to allow the user to select the folder contianing the data.\n",
    "# Function inputs args: None. \n",
    "# Function output 1: The path of that the folder selected by the user. \n",
    "directory = folder_selection_dialog()\n",
    "\n",
    "# A function capable of training a CNN to classifying pixels within .tif microscopy images of cell nuclei. \n",
    "# Function input 1: directory [str] --> The directory containing the original and gtruth data. \n",
    "# Function input 2: save_plot [bool] --> When True, graphical data will be saved. \n",
    "# Function input 3: display_plot [bool] --> When True, graphical data will be displayed in the console. \n",
    "# Function input 4: save_model [bool] --> When True, saves the model to the directory containing the training data. \n",
    "# Function input 5: train_previous_model [bool] --> When True, the user is prompted to select a previously trained model, in order to continue it's training.\n",
    "# Function input 6: num_epochs [int] --> The number of epochs to train the model.\n",
    "# Function input 7: make_movie [bool] --> When true, outputs a movie of the model learning over time. \n",
    "train_CNN(directory,\n",
    "          save_plot=True,\n",
    "          display_plot=True,\n",
    "          save_model=True, \n",
    "          train_previous_model=False,\n",
    "          num_epochs=300, \n",
    "          make_the_movie=True)"
   ]
  }
 ],
 "metadata": {
  "kernelspec": {
   "display_name": "Python 3",
   "language": "python",
   "name": "python3"
  },
  "language_info": {
   "codemirror_mode": {
    "name": "ipython",
    "version": 3
   },
   "file_extension": ".py",
   "mimetype": "text/x-python",
   "name": "python",
   "nbconvert_exporter": "python",
   "pygments_lexer": "ipython3",
   "version": "3.7.10"
  }
 },
 "nbformat": 4,
 "nbformat_minor": 5
}
