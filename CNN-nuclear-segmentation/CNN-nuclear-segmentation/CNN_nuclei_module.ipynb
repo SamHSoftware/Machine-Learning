{
 "cells": [
  {
   "cell_type": "code",
   "execution_count": null,
   "metadata": {},
   "outputs": [],
   "source": [
    "from tkinter import *\n",
    "from tkinter import filedialog\n",
    "\n",
    "# A function to allow the user to select the folder contianing the data.\n",
    "# Function inputs args: None. \n",
    "# Function output 1: The path of that the folder selected by the user. \n",
    "def folder_selection_dialog():\n",
    "    root = Tk()\n",
    "    root.title('Please select the directory containing the images')\n",
    "    root.filename = filedialog.askdirectory(initialdir=\"/\", title=\"Select A Folder\")\n",
    "    directory = root.filename\n",
    "    root.destroy()\n",
    "\n",
    "    return directory"
   ]
  },
  {
   "cell_type": "code",
   "execution_count": null,
   "metadata": {},
   "outputs": [],
   "source": [
    "# A function which will append images within a directory into a numpy array.\n",
    "# Function input 1: image_list [list of strings] --> Each item in the list is the name of an image which needs to be appended into one stack e.g. image1.tif.\n",
    "# Function input 2: directory [string] --> The directory containing the images\n",
    "# Function output 1: image stack [numpy array] --> The 3D stack of appended images. \n",
    "def append_images(image_list,\n",
    "                 directory):\n",
    "\n",
    "    # Create an empty list. \n",
    "    image_stack = []\n",
    "\n",
    "    # Iterate through the images of our list and append them to our stack. \n",
    "    for i in range(len(image_list)):\n",
    "        file_path = os.path.join(directory, image_list[i])\n",
    "        img = cv2.imread(file_path, -1)\n",
    "        image_stack.append(img)\n",
    "\n",
    "    # Convert the stack to a numpy array. \n",
    "    image_stack = np.array(image_stack)\n",
    "\n",
    "    return image_stack "
   ]
  },
  {
   "cell_type": "code",
   "execution_count": null,
   "metadata": {},
   "outputs": [],
   "source": [
    "import tensorflow as tf\n",
    "import segmentation_models as sm\n",
    "import cv2\n",
    "import numpy as np\n",
    "import os \n",
    "import matplotlib.pyplot as plt \n",
    "\n",
    "# A function capable of training a CNN to classifying pixels within .tif microscopy images of cell nuclei. \n",
    "# Function input 1: directory [str] --> The directory containing the original and gtruth data. \n",
    "# Function input 2: save_plot [bool] --> When True, graphical data will be saved. \n",
    "# Function input 3: display_plot [bool] --> When True, graphical data will be displayed in the console. \n",
    "# Function output 1: The trained CNN. \n",
    "def train_CNN(directory,\n",
    "              save_plot=False,\n",
    "              display_plot=True):\n",
    "    \n",
    "    #### () Create our training and testing dataset. \n",
    "    raw_images = [image for image in os.listdir(directory) if all([image.endswith('.tif'), 'gtruth' not in image])]    \n",
    "    gtruth_images = [image for image in os.listdir(directory) if all([image.endswith('.tif'), 'gtruth' in image])]\n",
    "    \n",
    "    X = append_images(raw_images, directory)\n",
    "    Y = append_images(gtruth_images, directory)\n",
    "        \n",
    "    # Normalise our images between 0 and 1. \n",
    "    \n",
    "    # "
   ]
  }
 ],
 "metadata": {
  "kernelspec": {
   "display_name": "Python 3",
   "language": "python",
   "name": "python3"
  },
  "language_info": {
   "codemirror_mode": {
    "name": "ipython",
    "version": 3
   },
   "file_extension": ".py",
   "mimetype": "text/x-python",
   "name": "python",
   "nbconvert_exporter": "python",
   "pygments_lexer": "ipython3",
   "version": "3.7.9"
  }
 },
 "nbformat": 4,
 "nbformat_minor": 4
}
