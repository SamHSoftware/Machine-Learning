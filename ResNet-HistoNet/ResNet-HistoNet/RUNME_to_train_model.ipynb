{
 "cells": [
  {
   "cell_type": "code",
   "execution_count": null,
   "id": "aa0e0442-18ab-4a99-98c9-fedb3f2cf1d4",
   "metadata": {},
   "outputs": [],
   "source": [
    "from code_module import *\n",
    "\n",
    "# Function to train the ResNet. \n",
    "# Function input arg 1: num_epochs [int] --> The number of epochs to train the model for. \n",
    "# Function input arg 2: batch_size [int] --> The batch_size. \n",
    "# Function input arg 3: new_model [bool] --> When True, trains a new model. When False, trains a previous model which you select.\n",
    "# Function input arg 4: display_plot [bool] --> When True, prints the plots of loss and accuracy. \n",
    "train_ResNet(num_epochs=30, \n",
    "             batch_size=5,\n",
    "             new_model = True, \n",
    "             display_plot=True)"
   ]
  }
 ],
 "metadata": {
  "kernelspec": {
   "display_name": "Python 3 (ipykernel)",
   "language": "python",
   "name": "python3"
  },
  "language_info": {
   "codemirror_mode": {
    "name": "ipython",
    "version": 3
   },
   "file_extension": ".py",
   "mimetype": "text/x-python",
   "name": "python",
   "nbconvert_exporter": "python",
   "pygments_lexer": "ipython3",
   "version": "3.8.13"
  }
 },
 "nbformat": 4,
 "nbformat_minor": 5
}
