{
 "cells": [
  {
   "cell_type": "code",
   "execution_count": null,
   "id": "6a0c51e2-c628-45a0-ae85-4d87ed4f89b9",
   "metadata": {},
   "outputs": [],
   "source": [
    "from code_module import create_training_data, select_folder\n",
    "\n",
    "# Fucntion to creata a training dataset of images with circles of different areas, and .csv files wth the corresponding area information. \n",
    "# Function input arg 1: num_images [int] --> The number of trainig images you wish to create. \n",
    "create_training_data(num_images=10)"
   ]
  }
 ],
 "metadata": {
  "kernelspec": {
   "display_name": "Python 3 (ipykernel)",
   "language": "python",
   "name": "python3"
  },
  "language_info": {
   "codemirror_mode": {
    "name": "ipython",
    "version": 3
   },
   "file_extension": ".py",
   "mimetype": "text/x-python",
   "name": "python",
   "nbconvert_exporter": "python",
   "pygments_lexer": "ipython3",
   "version": "3.8.13"
  }
 },
 "nbformat": 4,
 "nbformat_minor": 5
}
