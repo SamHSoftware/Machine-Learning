{
 "cells": [
  {
   "cell_type": "code",
   "execution_count": null,
   "id": "60ecde1e-44fc-4d26-9b8c-ac048cebeac4",
   "metadata": {},
   "outputs": [],
   "source": [
    "from code_module import * use_resnet, select_folder, select_file\n",
    "\n",
    "# Function to use the trained ResNet on a folder of images. \n",
    "# Function input arg 1: image_ext [list] --> Strings of the image extensions to be considered for processing. \n",
    "use_resnet(image_ext = ['.tif', '.png'])"
   ]
  }
 ],
 "metadata": {
  "kernelspec": {
   "display_name": "Python 3 (ipykernel)",
   "language": "python",
   "name": "python3"
  },
  "language_info": {
   "codemirror_mode": {
    "name": "ipython",
    "version": 3
   },
   "file_extension": ".py",
   "mimetype": "text/x-python",
   "name": "python",
   "nbconvert_exporter": "python",
   "pygments_lexer": "ipython3",
   "version": "3.8.13"
  }
 },
 "nbformat": 4,
 "nbformat_minor": 5
}
