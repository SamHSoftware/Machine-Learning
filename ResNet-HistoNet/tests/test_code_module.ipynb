{
 "cells": [
  {
   "cell_type": "code",
   "execution_count": 1,
   "metadata": {},
   "outputs": [],
   "source": [
    "# These tests present an example of those which could be emplyed, and are by no means exhaustive. \n",
    "\n",
    "# Import the necessary packages and modules. \n",
    "import os\n",
    "current_directory = os.getcwd()\n",
    "module_directory = current_directory.replace('tests', 'ResNet-HistoNet')\n",
    "import sys\n",
    "sys.path.insert(0, module_directory)\n",
    "from code_module import *\n",
    "\n",
    "# Test the function 'linear_regression()' against the provided output. \n",
    "# Function input args: None. \n",
    "# Function returns: When no errors are detected, a statement confirming this is printed. When errors are detcted, assertion errors are raised. \n",
    "def test_code_module(): \n",
    "\n",
    "    # Reconstruct the path so that we can load in the provided .csv data from the 'data' folder. \n",
    "    folder_path = current_directory.replace('tests', 'training-data')\n",
    "                            \n",
    "    # Load extract information from the csv file using get_names_and_distributions.\n",
    "    image_paths, distributions = get_names_and_distributions(folder_path)\n",
    "    distributions = np.around(distributions, decimals=3)\n",
    "    \n",
    "    # Test 1: Test to see if the data has loaded in correctly.\n",
    "    if data is None: \n",
    "        raise TypeError(\"Test 1 failed. Error opening .csv. 'area-data.csv' loaded as type None\") \n",
    "    \n",
    "    image_paths_truth = ['C:/Users/Samuel Huguet/OneDrive/Documents/Personal/Python/Machine-Learning/ResNet-HistoNet\\\\training-data\\\\image_0.tif',\n",
    "                          'C:/Users/Samuel Huguet/OneDrive/Documents/Personal/Python/Machine-Learning/ResNet-HistoNet\\\\training-data\\\\image_1.tif',\n",
    "                          'C:/Users/Samuel Huguet/OneDrive/Documents/Personal/Python/Machine-Learning/ResNet-HistoNet\\\\training-data\\\\image_2.tif',\n",
    "                          'C:/Users/Samuel Huguet/OneDrive/Documents/Personal/Python/Machine-Learning/ResNet-HistoNet\\\\training-data\\\\image_3.tif',\n",
    "                          'C:/Users/Samuel Huguet/OneDrive/Documents/Personal/Python/Machine-Learning/ResNet-HistoNet\\\\training-data\\\\image_4.tif',\n",
    "                          'C:/Users/Samuel Huguet/OneDrive/Documents/Personal/Python/Machine-Learning/ResNet-HistoNet\\\\training-data\\\\image_5.tif']\n",
    "\n",
    "    distributions_truth = np.array([[0.        , 0.        , 0.33333333, 0.22222222, 0.44444444],\n",
    "                                    [0.55555556, 0.44444444, 0.        , 0.        , 0.        ],\n",
    "                                    [0.55555556, 0.44444444, 0.        , 0.        , 0.        ],\n",
    "                                    [0.22222222, 0.55555556, 0.22222222, 0.        , 0.        ],\n",
    "                                    [0.        , 0.66666667, 0.33333333, 0.        , 0.        ],\n",
    "                                    [0.        , 0.55555556, 0.22222222, 0.22222222, 0.        ]])\n",
    "    distributions_truth = np.around(distributions_truth, decimals=3)\n",
    "    \n",
    "    # Test 2: See if the contents of the csv file match that which we expect. \n",
    "    assert image_paths == image_paths_truth, \"Test 2.1 failed. Path information within csv file did not matchoutput of get_names_and_distributions(csv_path)\"\n",
    "    assert np.all(distributions == distributions_truth), \"Test 2.2 failed. Distribution information within csv file did not match output of get_names_and_distributions(csv_path)\"\n",
    "    \n",
    "    print('Tests complete. No errors found.')\n",
    "    \n",
    "# Run the function for unit testing\n",
    "test_code_module()"
   ]
  }
 ],
 "metadata": {
  "kernelspec": {
   "display_name": "Python 3 (ipykernel)",
   "language": "python",
   "name": "python3"
  },
  "language_info": {
   "codemirror_mode": {
    "name": "ipython",
    "version": 3
   },
   "file_extension": ".py",
   "mimetype": "text/x-python",
   "name": "python",
   "nbconvert_exporter": "python",
   "pygments_lexer": "ipython3",
   "version": "3.8.13"
  }
 },
 "nbformat": 4,
 "nbformat_minor": 4
}
