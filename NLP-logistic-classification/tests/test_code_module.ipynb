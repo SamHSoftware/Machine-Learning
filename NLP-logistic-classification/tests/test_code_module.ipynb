{
 "cells": [
  {
   "cell_type": "code",
   "execution_count": null,
   "id": "d153c23d-5045-4d3d-8090-59d3e8c65306",
   "metadata": {},
   "outputs": [],
   "source": [
    "# This file serves as an example of tests that could be performed, \n",
    "# and is not reflective of the degree of test that such functions \n",
    "# would require. \n",
    "\n",
    "# Import the necessary packages and modules. \n",
    "import os\n",
    "current_directory = os.getcwd()\n",
    "module_directory = current_directory.replace('tests', 'NLP-logistic-classification')\n",
    "import sys\n",
    "sys.path.insert(0, module_directory)\n",
    "from code_module import *"
   ]
  },
  {
   "cell_type": "code",
   "execution_count": null,
   "id": "095b6afc-54c3-4565-bdfe-199c5fb85cfa",
   "metadata": {},
   "outputs": [],
   "source": [
    "import os\n",
    "\n",
    "# Function to test load_data(). \n",
    "def test_load_data():\n",
    "    \n",
    "    # Deduce the location of the sentiment labelled sentences. \n",
    "    current_directory = os.getcwd()\n",
    "    current_directory = current_directory.replace('tests', 'training-data')\n",
    "    data_directory = os.path.join(current_directory, 'sentiment labelled sentences')\n",
    "    \n",
    "    # Load the data. \n",
    "    df = load_data(data_directory)\n",
    "    \n",
    "    # Run assertion tests. \n",
    "    assert list(df.columns) == ['sentence', 'label', 'company'], 'Test 1.1 failed. Column names of DataFrame not as expected.'\n",
    "    assert df.iloc[0,0] == 'Wow... Loved this place.', 'Test 1.2 failed. First review not as expected.'\n",
    "    assert df.iloc[-1,0] == \"All in all its an insult to one's intelligence and a huge waste of money.  \", 'Test 1.2 failed. Last review not as expected.'\n",
    "\n",
    "    print('Test complete. No errors detected')"
   ]
  }
 ],
 "metadata": {
  "kernelspec": {
   "display_name": "Python 3 (ipykernel)",
   "language": "python",
   "name": "python3"
  },
  "language_info": {
   "codemirror_mode": {
    "name": "ipython",
    "version": 3
   },
   "file_extension": ".py",
   "mimetype": "text/x-python",
   "name": "python",
   "nbconvert_exporter": "python",
   "pygments_lexer": "ipython3",
   "version": "3.8.13"
  }
 },
 "nbformat": 4,
 "nbformat_minor": 5
}
