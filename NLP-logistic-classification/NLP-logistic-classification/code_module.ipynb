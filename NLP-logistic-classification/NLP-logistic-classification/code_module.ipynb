{
 "cells": [
  {
   "cell_type": "code",
   "execution_count": null,
   "id": "a4df7d63-673d-488b-905c-7c9abbd0ab39",
   "metadata": {},
   "outputs": [],
   "source": [
    "from tkinter import *\n",
    "from tkinter import filedialog\n",
    "\n",
    "# Function to allow the user to select the folder contianing the data.\n",
    "# Function inputs arg 1: message [string] --> The title for the GUI. \n",
    "# Function output 1: directory [string] --> The path of that the folder selected by the user. \n",
    "def select_folder(message):\n",
    "    root = Tk()\n",
    "    root.title(message)\n",
    "    root.filename = filedialog.askdirectory(initialdir=\"/\", title=message)\n",
    "    directory = root.filename\n",
    "    root.destroy()\n",
    "\n",
    "    return directory"
   ]
  },
  {
   "cell_type": "code",
   "execution_count": null,
   "id": "7dadad8f-b29b-42a4-ad7b-dd1e25ee5500",
   "metadata": {},
   "outputs": [],
   "source": [
    "import pandas as pd \n",
    "import os as os \n",
    "\n",
    "# Function to load in data from the \"sentiment labelled sentences\" dataset. \n",
    "# Function input arg 1: directory [string] --> The sentiment labelled sentences directory, containing the txt files. \n",
    "# Function output 1: df [DataFrame] --> The sentences with corresponding labels and companies.\n",
    "def load_data(directory):\n",
    "    \n",
    "    # Construct a dict to store filepath data for each dataset. \n",
    "    filepath_dict = dict.fromkeys(['yelp', 'amazon', 'imdb'])\n",
    "    filepath_dict['yelp'] = os.path.join(directory, 'yelp_labelled.txt')\n",
    "    filepath_dict['amazon'] = os.path.join(directory, 'amazon_cells_labelled.txt')\n",
    "    filepath_dict['imdb'] = os.path.join(directory,  'imdb_labelled.txt')\n",
    "    \n",
    "    # Add the .txt data to a pandas DataFrame.\n",
    "    df_list = [] \n",
    "    for company, filepath in filepath_dict.items():\n",
    "        df = pd.read_csv(filepath, names=['sentence', 'label'], sep='\\t') # Where \\t is a string literal for the tab character. \n",
    "        df['company'] = company\n",
    "        df_list.append(df)\n",
    "        \n",
    "    df = pd.concat(df_list)\n",
    "    \n",
    "    return df "
   ]
  },
  {
   "cell_type": "code",
   "execution_count": null,
   "id": "38d77f05-9344-4e15-9b3b-366cc29f8eb1",
   "metadata": {},
   "outputs": [],
   "source": [
    "from sklearn.feature_extraction.text import CountVectorizer\n",
    "\n",
    "# Function to vectorize the sentences.\n",
    "# Function input arg 1: df [DataFrame] --> The sentences with corresponding labels and companies.\n",
    "# Function output 1: sentences_BOW [array] --> The vectorized sentences, as prepared for a bag of words model. \n",
    "def vectorize_sentences(df): \n",
    "    \n",
    "    # Get the sentences from the DataFrame. \n",
    "    sentences = df['sentence'].tolist()\n",
    "    \n",
    "    # Vectorize the sentences.\n",
    "    vectorizer = CountVectorizer(min_df=0, lowercase=False)\n",
    "    vectorizer.fit(sentences)\n",
    "    sentences = vectorizer.vocabulary_\n",
    "    sentences_BOW = vectorizer.transform(sentences).toarray() # BOW: bag of words. \n",
    "    \n",
    "    return sentences_BOW"
   ]
  }
 ],
 "metadata": {
  "kernelspec": {
   "display_name": "Python 3 (ipykernel)",
   "language": "python",
   "name": "python3"
  },
  "language_info": {
   "codemirror_mode": {
    "name": "ipython",
    "version": 3
   },
   "file_extension": ".py",
   "mimetype": "text/x-python",
   "name": "python",
   "nbconvert_exporter": "python",
   "pygments_lexer": "ipython3",
   "version": "3.8.13"
  }
 },
 "nbformat": 4,
 "nbformat_minor": 5
}
