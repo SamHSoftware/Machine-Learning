{
 "cells": [
  {
   "cell_type": "code",
   "execution_count": null,
   "id": "a4df7d63-673d-488b-905c-7c9abbd0ab39",
   "metadata": {},
   "outputs": [],
   "source": [
    "from tkinter import *\n",
    "from tkinter import filedialog\n",
    "\n",
    "# Function to allow the user to select the folder containing the data.\n",
    "# Function inputs arg 1: message [string] --> The title for the GUI. \n",
    "# Function output 1: directory [string] --> The path of that the folder selected by the user. \n",
    "def select_folder(message):\n",
    "    root = Tk()\n",
    "    root.title(message)\n",
    "    root.filename = filedialog.askdirectory(initialdir=\"/\", title=message)\n",
    "    directory = root.filename\n",
    "    root.destroy()\n",
    "\n",
    "    return directory"
   ]
  },
  {
   "cell_type": "code",
   "execution_count": null,
   "id": "7dadad8f-b29b-42a4-ad7b-dd1e25ee5500",
   "metadata": {},
   "outputs": [],
   "source": [
    "import pandas as pd \n",
    "import os as os \n",
    "\n",
    "# Function to load in data from the \"sentiment labelled sentences\" dataset. \n",
    "# Function input arg 1: directory [string] --> The sentiment labelled sentences directory, containing the txt files. \n",
    "# Function output 1: df [DataFrame] --> The sentences with corresponding labels and companies.\n",
    "def load_data(directory):\n",
    "    \n",
    "    # Construct a dict to store filepath data for each dataset. \n",
    "    filepath_dict = dict.fromkeys(['yelp', 'amazon', 'imdb'])\n",
    "    filepath_dict['yelp'] = os.path.join(directory, 'yelp_labelled.txt')\n",
    "    filepath_dict['amazon'] = os.path.join(directory, 'amazon_cells_labelled.txt')\n",
    "    filepath_dict['imdb'] = os.path.join(directory,  'imdb_labelled.txt')\n",
    "    \n",
    "    # Add the .txt data to a pandas DataFrame.\n",
    "    df_list = [] \n",
    "    for company, filepath in filepath_dict.items():\n",
    "        df = pd.read_csv(filepath, names=['sentence', 'label'], sep='\\t') # Where \\t is a string literal for the tab character. \n",
    "        df['company'] = company\n",
    "        df_list.append(df)\n",
    "        \n",
    "    df = pd.concat(df_list)\n",
    "    \n",
    "    return df "
   ]
  },
  {
   "cell_type": "code",
   "execution_count": null,
   "id": "38d77f05-9344-4e15-9b3b-366cc29f8eb1",
   "metadata": {},
   "outputs": [],
   "source": [
    "from sklearn.feature_extraction.text import CountVectorizer\n",
    "\n",
    "# Function to vectorize the sentences.\n",
    "# Function input arg 1: df [DataFrame] --> The sentences with corresponding labels and companies.\n",
    "# Function output 1: sentences_BOW [array] --> The vectorized sentences, as prepared for a bag of words model. \n",
    "# Function output 2: labels [array] --> The labels. \n",
    "def vectorize_sentences(df): \n",
    "    \n",
    "    # Get the sentences from the DataFrame. \n",
    "    sentences = df['sentence'].tolist()\n",
    "    \n",
    "    # Vectorize the sentences.\n",
    "    vectorizer = CountVectorizer(min_df=0, lowercase=False)\n",
    "    vectorizer.fit(sentences)\n",
    "    sentences_BOW = vectorizer.transform(sentences).toarray() # BOW: bag of words. \n",
    "    \n",
    "    # Get the array of labels. \n",
    "    labels = df['label'].to_numpy()\n",
    "    \n",
    "    return sentences_BOW, labels "
   ]
  },
  {
   "cell_type": "code",
   "execution_count": null,
   "id": "9a72dcb4-f2e8-4ecf-bfc6-5b86b1e4b705",
   "metadata": {},
   "outputs": [],
   "source": [
    "from sklearn.model_selection import train_test_split \n",
    "from sklearn.linear_model import LogisticRegression\n",
    "\n",
    "# Function to use the model. \n",
    "def use_model(): \n",
    "    \n",
    "    #### (1) Load the data and vectorize it. \n",
    "    \n",
    "    # Select the directory via a GUI. \n",
    "    directory = select_folder('Please select the \"sentiment labelled sentences\" txt datasets.') \n",
    "    \n",
    "    # Load the data. \n",
    "    df = load_data(directory)\n",
    "    \n",
    "    # Vectorize the data. \n",
    "    sentences_BOW, labels = vectorize_sentences(df)\n",
    "    \n",
    "    #### (1) Split the dataset into training and testing subsets.\n",
    "    \n",
    "    x_train, x_test, y_train, y_test = train_test_split(sentences_BOW, labels, test_size=0.1)\n",
    "    \n",
    "    #### (2) Create and fit data to our model. \n",
    "    \n",
    "    classifier = LogisticRegression()\n",
    "    classifier.fit(x_train, y_train) \n",
    "    score = classifier.score(x_test, y_test)\n",
    "    \n",
    "    # Print the accuracy. \n",
    "    print(f\"The accuracy is {'{0:.3f}'.format(score)}%\")"
   ]
  }
 ],
 "metadata": {
  "kernelspec": {
   "display_name": "Python 3 (ipykernel)",
   "language": "python",
   "name": "python3"
  },
  "language_info": {
   "codemirror_mode": {
    "name": "ipython",
    "version": 3
   },
   "file_extension": ".py",
   "mimetype": "text/x-python",
   "name": "python",
   "nbconvert_exporter": "python",
   "pygments_lexer": "ipython3",
   "version": "3.8.13"
  }
 },
 "nbformat": 4,
 "nbformat_minor": 5
}
