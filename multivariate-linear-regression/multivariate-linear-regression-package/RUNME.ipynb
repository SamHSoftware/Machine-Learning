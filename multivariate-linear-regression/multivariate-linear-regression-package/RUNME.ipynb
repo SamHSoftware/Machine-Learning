{
 "cells": [
  {
   "cell_type": "code",
   "execution_count": null,
   "metadata": {},
   "outputs": [],
   "source": [
    "# Import the necessary packages.\n",
    "from multivariate_linear_regression_functions import *\n",
    "\n",
    "# A function to allow the user to select the data they wish to analyse. \n",
    "# Function input args: none. \n",
    "# Function output 1: The file path of the file in question. \n",
    "file_path = file_selection_dialog()\n",
    "\n",
    "# A function to compare the effects of different image filters.\n",
    "# Function inputs args 1: file_path --> Input as string. The file path for the data in question.\n",
    "# Function inputs args 2: plot_images --> Set to True or False. When true, displays the graphs. \n",
    "# Function inputs args 3: save_plot --> Set to True or False. When True, saves graphs to file_path folder.\n",
    "# Function output 1: The trained model multivariate linear regression model. The model exects an input tensor of dtype float32.\n",
    "# Function output 2: The weights and biases for the multivariate linear regression model, ordered as the bias, then w1, w2, ...wn for features x1, x2, ... xn.\n",
    "# Function output 3: RMSE between prediction data and truth data. \n",
    "# Function output 4: R2 between test prediction and truth data. \n",
    "model, weights, RMSE, R2 = MV_linear_regression(file_path, True, True)"
   ]
  }
 ],
 "metadata": {
  "kernelspec": {
   "display_name": "Python 3",
   "language": "python",
   "name": "python3"
  },
  "language_info": {
   "codemirror_mode": {
    "name": "ipython",
    "version": 3
   },
   "file_extension": ".py",
   "mimetype": "text/x-python",
   "name": "python",
   "nbconvert_exporter": "python",
   "pygments_lexer": "ipython3",
   "version": "3.7.9"
  }
 },
 "nbformat": 4,
 "nbformat_minor": 4
}
