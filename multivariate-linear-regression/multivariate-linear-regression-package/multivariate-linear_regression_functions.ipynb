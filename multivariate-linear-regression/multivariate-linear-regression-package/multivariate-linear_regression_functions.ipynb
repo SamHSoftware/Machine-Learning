{
 "cells": [
  {
   "cell_type": "code",
   "execution_count": null,
   "metadata": {},
   "outputs": [],
   "source": [
    "from tkinter import *\n",
    "from tkinter import filedialog\n",
    "\n",
    "# A function to allow the user to select the image they wish to analyse. \n",
    "# Function inputs args: None. \n",
    "# Function output 1: The file path of that which was selected by the user. \n",
    "def file_selection_dialog():\n",
    "    root = Tk()\n",
    "    root.title('Please select the file in question')\n",
    "    root.filename = filedialog.askopenfilename(initialdir=\"/\", title=\"Select A File\", filetypes=[(\"All files\", \"*.*\")])\n",
    "    file_path = root.filename\n",
    "    root.destroy()\n",
    "\n",
    "    return file_path"
   ]
  },
  {
   "cell_type": "code",
   "execution_count": null,
   "metadata": {},
   "outputs": [],
   "source": [
    "import pandas as pd \n",
    "from sklearn import linear_model\n",
    "\n",
    "import ntpath\n",
    "import os\n",
    "import matplotlib.pyplot as plt\n",
    "\n",
    "import numpy as np\n",
    "from numpy import genfromtxt\n",
    "\n",
    "import torch\n",
    "\n",
    "# Function inputs args 1: file_path --> Input as string. The file path for the data in question.\n",
    "# Function inputs args 2: plot_images --> Set to True or False. Wehn True, prints training data with regression line to console.\n",
    "# Function inputs args 3: save_plot --> Set to True or False. When True, saves training data to file_path folder.\n",
    "def MV_linear_regression(file_path, plot_images, save_plot): \n",
    "\n",
    "    # Import the csv file. \n",
    "    data = pd.read_csv(file_path, dtype=float)\n",
    "    \n",
    "    # Extract the relevant data.\n",
    "    num_cols = len(data.columns)\n",
    "    X = data.iloc[:, list(range(1,num_cols))]\n",
    "    Y = data.iloc[:, 0]\n",
    "    \n",
    "    # with sklearn\n",
    "    regr = linear_model.LinearRegression()\n",
    "    regr.fit(X, Y)\n",
    "    \n",
    "    ############\n",
    "    # (1) Load and prepare data. \n",
    "    data = genfromtxt(file_path, delimiter=',')\n",
    "    data = data[~np.isnan(data).any(axis=1)] # Remove NaN rows, such as column labels. \n",
    "    \n",
    "    X = data[:, list(range(1,num_cols))]\n",
    "    Y = data[:, 0]\n",
    "    \n",
    "    # By converting our data to float32, we reduce memory usage. \n",
    "    X = np.array(X, dtype=np.float32)\n",
    "    Y = np.array(Y, dtype=np.float32)\n",
    "    \n",
    "    # Convert our numpy arrays to tensors. Pytorch requires the use of tensors. \n",
    "    X_tensor = torch.from_numpy(X.reshape(m,n))\n",
    "    y_tensor = torch.from_numpy(y.reshape(m,1))\n",
    "    \n",
    "    # (1) Define our model. \n",
    "    \n",
    "    "
   ]
  }
 ],
 "metadata": {
  "kernelspec": {
   "display_name": "Python 3",
   "language": "python",
   "name": "python3"
  },
  "language_info": {
   "codemirror_mode": {
    "name": "ipython",
    "version": 3
   },
   "file_extension": ".py",
   "mimetype": "text/x-python",
   "name": "python",
   "nbconvert_exporter": "python",
   "pygments_lexer": "ipython3",
   "version": "3.7.9"
  }
 },
 "nbformat": 4,
 "nbformat_minor": 4
}
