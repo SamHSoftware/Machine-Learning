{
 "cells": [
  {
   "cell_type": "code",
   "execution_count": null,
   "id": "b04b0912-9b61-4e33-b5e2-98785a9e5076",
   "metadata": {},
   "outputs": [],
   "source": [
    "from GAN_module import * \n",
    "\n",
    "# Function to use a trained generator to create our fake data. \n",
    "# Function input arg 1: number_of_images [int] --> The number of images you wish to generate. \n",
    "use_generator(number_of_images)"
   ]
  }
 ],
 "metadata": {
  "kernelspec": {
   "display_name": "",
   "name": ""
  },
  "language_info": {
   "name": ""
  }
 },
 "nbformat": 4,
 "nbformat_minor": 5
}
