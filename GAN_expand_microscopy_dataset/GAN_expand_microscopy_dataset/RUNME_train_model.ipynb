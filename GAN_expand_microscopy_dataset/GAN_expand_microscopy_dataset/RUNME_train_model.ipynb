{
 "cells": [
  {
   "cell_type": "code",
   "execution_count": null,
   "id": "c6f2eb4d-39b1-4438-b2f2-b29f45f230cb",
   "metadata": {},
   "outputs": [],
   "source": [
    "from GAN_module import * \n",
    "\n",
    "# A function to allow the user to select the folder contianing the data.\n",
    "# Function inputs args: None. \n",
    "# Function output 1: The path of that the folder selected by the user. \n",
    "directory = folder_selection_dialog()\n",
    "\n",
    "# Function to train the GAN and save the model outputs. \n",
    "# Function input arg 1: directory [string] --> The directory containing the training data.\n",
    "# Function input arg 2: file_type [string] --> The file type of the training data e.g. '.tif'.\n",
    "# Function input arg 3: save_data [bool] --> When True, saves the models and the training data.\n",
    "# Function input arg 4: num_epochs [int] --> The number of epochs to train for. \n",
    "# Function input arg 5: batch_size [int, preferbly even] --> Num images processed per batch. NB: Your batch size can never equal more than 2*\n",
    "# Function input arg 6: test_train_split [float] --> The fraction of the data which will be used for training. e.g. 0.8 would mean 80% be used for training, while 20% for testing.\n",
    "# Function input arg 7: display_plot [bool] --> When True, prints the graphs of accuracy and loss.\n",
    "train_model(directory,\n",
    "            file_type = '.tif',\n",
    "            save_data = True,\n",
    "            num_epochs = 25,\n",
    "            batch_size = 6,\n",
    "            test_train_split = 0.1,\n",
    "            display_plot=True)"
   ]
  }
 ],
 "metadata": {
  "kernelspec": {
   "display_name": "Python 3 (ipykernel)",
   "language": "python",
   "name": "python3"
  },
  "language_info": {
   "codemirror_mode": {
    "name": "ipython",
    "version": 3
   },
   "file_extension": ".py",
   "mimetype": "text/x-python",
   "name": "python",
   "nbconvert_exporter": "python",
   "pygments_lexer": "ipython3",
   "version": "3.8.12"
  }
 },
 "nbformat": 4,
 "nbformat_minor": 5
}
