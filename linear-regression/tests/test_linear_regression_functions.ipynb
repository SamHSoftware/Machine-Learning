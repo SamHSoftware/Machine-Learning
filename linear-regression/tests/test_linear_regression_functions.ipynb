{
 "cells": [
  {
   "cell_type": "code",
   "execution_count": 1,
   "metadata": {},
   "outputs": [],
   "source": [
    "# Import the necessary packages and modules. \n",
    "import numpy as np \n",
    "import pandas as pd \n",
    "import os\n",
    "current_directory = os.getcwd()\n",
    "module_directory = current_directory.replace('tests', 'linear-regression-package')\n",
    "import sys\n",
    "sys.path.insert(0, module_directory)\n",
    "from linear_regression_functions import *\n",
    "\n",
    "# Test the function 'linear_regression()' against the provided output. \n",
    "# Function input args: None. \n",
    "# Function returns: When no errors are detected, a statement confirming this is printed. When errors are detcted, assertion errors are raised. \n",
    "def test_linear_regression(): \n",
    "\n",
    "    # Reconstruct the path so that we can load in the provided .csv data from the 'data' folder. \n",
    "    file_path = current_directory.replace('tests', 'data/linear_regression_data.csv')\n",
    "\n",
    "    # Load in the csv data. \n",
    "    data = pd.read_csv(file_path, dtype=float)    \n",
    "\n",
    "    # Test 1: Test to see if the data has loaded in correctly.\n",
    "    if data is None: \n",
    "        raise TypeError(\"Test 1 failed. Error opening .csv.'linear_regression_data.csv' is of type None\") \n",
    "    \n",
    "    # Test 2: See if the values of 'm' and 'c' (from our linear regression function) match the expected values. \n",
    "    m_test, c_test = linear_regression(file_path, plot_images=False, save_plot=False)\n",
    "    assert m_test == 0.9873951622984585, \"Test 2.1 failed. The calculated coefficient of gradient is not equal to 0.9873951622984585\"\n",
    "    assert c_test == 0.1288261344615331, \"Test 2.2 failed. The calculated y-intercept is not equal to 0.1288261344615331\"\n",
    "    \n",
    "    print('Tests complete. No errors found.')\n",
    "    \n",
    "# Run the function for unit testing\n",
    "test_compare_edge_detection()"
   ]
  }
 ],
 "metadata": {
  "kernelspec": {
   "display_name": "Python 3",
   "language": "python",
   "name": "python3"
  },
  "language_info": {
   "codemirror_mode": {
    "name": "ipython",
    "version": 3
   },
   "file_extension": ".py",
   "mimetype": "text/x-python",
   "name": "python",
   "nbconvert_exporter": "python",
   "pygments_lexer": "ipython3",
   "version": "3.7.9"
  }
 },
 "nbformat": 4,
 "nbformat_minor": 4
}
