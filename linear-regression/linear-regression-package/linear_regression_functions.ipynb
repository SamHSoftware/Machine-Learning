{
 "cells": [
  {
   "cell_type": "code",
   "execution_count": null,
   "metadata": {},
   "outputs": [],
   "source": [
    "from tkinter import *\n",
    "from tkinter import filedialog\n",
    "import cv2 as cv\n",
    "\n",
    "# A function to allow the user to select the image they wish to analyse. \n",
    "def file_selection_dialog():\n",
    "    root = Tk()\n",
    "    root.title('Please select the file in question')\n",
    "    root.filename = filedialog.askopenfilename(initialdir=\"/\", title=\"Select A File\", filetypes=[(\"All files\", \"*.*\")])\n",
    "    file_path = root.filename\n",
    "    root.destroy()\n",
    "    \n",
    "    # If the image has more channels than one, throw an error. \n",
    "    image = cv.imread(file_path, 0) # We load in the image. \n",
    "    if (len(image.shape) > 2): \n",
    "        raise TypeError(\"Your image has more than one channel. Please select an image with only one channel.\")\n",
    "    return file_path"
   ]
  }
 ],
 "metadata": {
  "kernelspec": {
   "display_name": "Python 3",
   "language": "python",
   "name": "python3"
  },
  "language_info": {
   "codemirror_mode": {
    "name": "ipython",
    "version": 3
   },
   "file_extension": ".py",
   "mimetype": "text/x-python",
   "name": "python",
   "nbconvert_exporter": "python",
   "pygments_lexer": "ipython3",
   "version": "3.7.9"
  }
 },
 "nbformat": 4,
 "nbformat_minor": 4
}
