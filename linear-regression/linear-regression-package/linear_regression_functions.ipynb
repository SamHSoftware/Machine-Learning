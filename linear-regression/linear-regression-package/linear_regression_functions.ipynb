{
 "cells": [
  {
   "cell_type": "code",
   "execution_count": null,
   "metadata": {},
   "outputs": [],
   "source": [
    "from tkinter import *\n",
    "from tkinter import filedialog\n",
    "import cv2 as cv\n",
    "\n",
    "# A function to allow the user to select the image they wish to analyse. \n",
    "# Function inputs args: None. \n",
    "# Function output 1: The file path of that which was selected by the user. \n",
    "def file_selection_dialog():\n",
    "    root = Tk()\n",
    "    root.title('Please select the file in question')\n",
    "    root.filename = filedialog.askopenfilename(initialdir=\"/\", title=\"Select A File\", filetypes=[(\"All files\", \"*.*\")])\n",
    "    file_path = root.filename\n",
    "    root.destroy()\n",
    "\n",
    "    return file_path"
   ]
  },
  {
   "cell_type": "code",
   "execution_count": null,
   "metadata": {},
   "outputs": [],
   "source": [
    "import numpy as np \n",
    "import matplotlib.pyplot as plt\n",
    "import csv \n",
    "import pandas as pd\n",
    "\n",
    "# Function inputs args 1: file_path --> Input as string. The file path for the data in question.\n",
    "def linear_regression(file_path): \n",
    "    \n",
    "    # Import the csv file. \n",
    "    data = pd.read_csv(file_path)\n",
    "    X = data.iloc[:, 0]\n",
    "    Y = data.iloc[:, 1]\n",
    "    \n",
    "    # Plot the data. \n",
    "    plt.scatter(X, Y)\n",
    "    plt.rcParams.update({'font.size': 15})\n",
    "    plt.ylabel('Y data', labelpad=10)\n",
    "    plt.xlabel('X data', labelpad=10)\n",
    "    plt.title('Training data and test data', pad=15)\n",
    "    plt.show()\n",
    "    \n",
    "    # Build the linear regression model. \n",
    "    m = 0 # 'm' represents the gradient. \n",
    "    c = 0 # 'c' represents the y intercept. \n",
    "    a = 0.0001  # The learning rate. This describes the rate at which the suggested line of best fit is altere each iteration. If this value is too great, then instead of converging on the best line of fit, we may diverge from it. \n",
    "    iterations = 1000  # The number of iterations to perform gradient descent.\n",
    "\n",
    "    n = len(X) # Number 'truth' data points. \n",
    "\n",
    "    # Performing Gradient Descent \n",
    "    for i in range(iterations): \n",
    "        Y_pred = m*X + c  # The current predicted value of Y\n",
    "        \n",
    "        D_m = (-2/n) * sum(X * (Y - Y_pred))  # Derivative wrt m\n",
    "        D_c = (-2/n) * sum(Y - Y_pred)  # Derivative wrt c\n",
    "        \n",
    "        m = m - a * D_m  # Update m\n",
    "        c = c - a * D_c  # Update c\n",
    "\n",
    "    print (m, c)\n",
    "\n",
    "    # Making predictions\n",
    "    Y_pred = m*X + c\n",
    "\n",
    "    plt.scatter(X, Y) \n",
    "    plt.plot([min(X), max(X)], [min(Y_pred), max(Y_pred)], color='red')  # regression line\n",
    "    plt.show()\n",
    "    \n",
    "    return (m, c)"
   ]
  }
 ],
 "metadata": {
  "kernelspec": {
   "display_name": "Python 3",
   "language": "python",
   "name": "python3"
  },
  "language_info": {
   "codemirror_mode": {
    "name": "ipython",
    "version": 3
   },
   "file_extension": ".py",
   "mimetype": "text/x-python",
   "name": "python",
   "nbconvert_exporter": "python",
   "pygments_lexer": "ipython3",
   "version": "3.7.9"
  }
 },
 "nbformat": 4,
 "nbformat_minor": 4
}
